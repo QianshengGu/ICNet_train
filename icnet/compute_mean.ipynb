{
 "cells": [
  {
   "cell_type": "code",
   "execution_count": 6,
   "metadata": {
    "collapsed": true
   },
   "outputs": [],
   "source": [
    "import os \n",
    "import cv2\n",
    "import numpy as np\n",
    "import os\n",
    "os.chdir(\"/home1\")"
   ]
  },
  {
   "cell_type": "code",
   "execution_count": 13,
   "metadata": {},
   "outputs": [],
   "source": [
    "def mean_value(path):\n",
    "    file=os.listdir(path)\n",
    "    sum_r=0\n",
    "    sum_g=0\n",
    "    sum_b=0\n",
    "    count=0\n",
    "    for f in file:\n",
    "        count+=1\n",
    "        img=np.array(cv2.imread(os.path.join(path,f)))\n",
    "        sum_r+=img[:,:,0].mean()\n",
    "        sum_g+=img[:,:,1].mean()\n",
    "        sum_b+=img[:,:,2].mean()\n",
    "        \n",
    "    sum_r/=count\n",
    "    sum_g/=count\n",
    "    sum_b/=count\n",
    "    print(count)\n",
    "    return [sum_b,sum_g,sum_r]\n",
    "       \n",
    "    "
   ]
  },
  {
   "cell_type": "code",
   "execution_count": 14,
   "metadata": {},
   "outputs": [
    {
     "name": "stdout",
     "output_type": "stream",
     "text": [
      "True\n",
      "70000\n"
     ]
    },
    {
     "data": {
      "text/plain": [
       "[71.0640158499202, 74.61346680468743, 73.93583077771683]"
      ]
     },
     "execution_count": 14,
     "metadata": {},
     "output_type": "execute_result"
    }
   ],
   "source": [
    "path=\"./bdd/road_seg/images/train\"\n",
    "print(os.path.exists(path))\n",
    "mean_value(path) "
   ]
  },
  {
   "cell_type": "code",
   "execution_count": null,
   "metadata": {
    "collapsed": true
   },
   "outputs": [],
   "source": []
  }
 ],
 "metadata": {
  "kernelspec": {
   "display_name": "Python 3",
   "language": "python",
   "name": "python3"
  },
  "language_info": {
   "codemirror_mode": {
    "name": "ipython",
    "version": 3
   },
   "file_extension": ".py",
   "mimetype": "text/x-python",
   "name": "python",
   "nbconvert_exporter": "python",
   "pygments_lexer": "ipython3",
   "version": "3.6.2"
  }
 },
 "nbformat": 4,
 "nbformat_minor": 2
}
